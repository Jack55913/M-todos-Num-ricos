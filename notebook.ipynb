{
 "cells": [
  {
   "cell_type": "code",
   "execution_count": 1,
   "metadata": {},
   "outputs": [
    {
     "data": {
      "text/plain": [
       "<AxesSubplot:>"
      ]
     },
     "execution_count": 1,
     "metadata": {},
     "output_type": "execute_result"
    },
    {
     "data": {
      "image/png": "[encoded data removed]",
      "text/plain": [
       "<Figure size 432x288 with 1 Axes>"
      ]
     },
     "metadata": {
      "needs_background": "light"
     },
     "output_type": "display_data"
    }
   ],
   "source": [
    "import pandas as pd\n",
    "datos = pd.DataFrame({'x': [1, 2, 3, 4, 5], 'y': [3,5,2,10,8]}, index=[\"Alfredo\", \"Emilio\", \"Juan\", \"Pedro\", \"Raul\"])\n",
    "datos\n",
    "datos.plot.bar()"
   ]
  },
  {
   "cell_type": "code",
   "execution_count": 1,
   "metadata": {},
   "outputs": [
    {
     "name": "stdout",
     "output_type": "stream",
     "text": [
      "C:  30\n",
      "x0: -0.5 f(x0) -1.75  df(x0) -3.0 x1:  -1.0833333333333335\n",
      "x0: -1.0833333333333335 f(x0) 0.34027777777777857  df(x0) -4.166666666666667 x1:  -1.0016666666666667\n",
      "x0: -1.0016666666666667 f(x0) 0.0066694444444443945  df(x0) -4.003333333333334 x1:  -1.0000006938662227\n",
      "x0: -1.0000006938662227 f(x0) 2.77546537219564e-06  df(x0) -4.000001387732445 x1:  -1.0000000000001203\n",
      "Solución en 3 Iteraciones\n",
      "xsol= -1.0000000000001203\n"
     ]
    }
   ],
   "source": [
    "A = 10\n",
    "B = 20\n",
    "C = A+B\n",
    "print('C: ', C)\n",
    "\n",
    "\n",
    "def f(x):\n",
    "    return (x**2)-(2*x)-3\n",
    "\n",
    "\n",
    "def df(x):\n",
    "    return (2*x)-2\n",
    "\n",
    "\n",
    "NoIterMax = 100\n",
    "Tolerancia = 0.000001\n",
    "x0 = -0.5\n",
    "Salir = 0\n",
    "i = 0\n",
    "while (i <= NoIterMax) and (Salir == 0):\n",
    "    x1 = x0-(f(x0)/df(x0))\n",
    "    print('x0:', x0, 'f(x0)', f(x0), ' df(x0)', df(x0), 'x1: ', x1)\n",
    "    if (((x1) == 0) or (abs(x1-x0) <= Tolerancia)):\n",
    "        print(\"Solución en\", i, \"Iteraciones\")\n",
    "        print(\"xsol=\", x1)\n",
    "        Salir = 1\n",
    "    else:\n",
    "        i = i+1\n",
    "        x0 = x1\n",
    "    if (i >= NoIterMax):\n",
    "        print(\"El método falló: cambie de método\")"
   ]
  },
  {
   "cell_type": "code",
   "execution_count": null,
   "metadata": {},
   "outputs": [],
   "source": [
    "import math\n",
    "\n",
    "A = float(input('Coeficiente A: '))\n",
    "B = float(input('Coeficiente B: '))\n",
    "C = float(input('Coeficiente C: '))\n",
    "\n",
    "if A==0: \n",
    "    print ('La solución es lineal')\n",
    "    x = -C/B\n",
    "    print ('x = ',x)\n",
    "else:\n",
    "    E = B**2-4*A*C\n",
    "    if E>=0:\n",
    "        print('La solución es real')\n",
    "        x1 = (-B+math.sqrt(E))/(2*A)\n",
    "        x2 = (-B-math.sqrt(E))/(2*A)\n",
    "        print('x1 = ',x1,'x2 = ',x2)\n",
    "    else: \n",
    "        print('La soulución es compleja')\n",
    "        R = -B/(2*A)\n",
    "        Im = math.sqrt(abs(E))/(2*A)\n",
    "        print ('x1 = ',complex(R,Im))\n",
    "        print ('x2 = ',complex(R,-Im))\n",
    "        print ('x1 = ',R,'+',Im,'i')\n",
    "        print ('x2 = ',R,'-',Im,'i')"
   ]
  },
  {
   "cell_type": "code",
   "execution_count": null,
   "metadata": {},
   "outputs": [],
   "source": [
    "n = int(input('Dáme un número: '))\n",
    "rana = 0\n",
    "while rana < n:\n",
    "    rana += 2\n",
    "if rana == n:\n",
    "    print('El número es par')\n",
    "else: \n",
    "    print('El número es impar')\n"
   ]
  }
 ],
 "metadata": {
  "interpreter": {
   "hash": "ac163d9fbf3c831609b1dfd2f7c0d5c99a497dab24bb3169e17a78e65b2f8f30"
  },
  "kernelspec": {
   "display_name": "Python 3.9.5 64-bit",
   "language": "python",
   "name": "python3"
  },
  "language_info": {
   "codemirror_mode": {
    "name": "ipython",
    "version": 3
   },
   "file_extension": ".py",
   "mimetype": "text/x-python",
   "name": "python",
   "nbconvert_exporter": "python",
   "pygments_lexer": "ipython3",
   "version": "3.9.1"
  },
  "orig_nbformat": 4
 },
 "nbformat": 4,
 "nbformat_minor": 2
}
